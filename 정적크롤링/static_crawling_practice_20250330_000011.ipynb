{
 "cells": [
  {
   "cell_type": "markdown",
   "id": "1ff339b4",
   "metadata": {},
   "source": [
    "# 🧑‍💻 정적 웹 크롤링 실습 (requests + BeautifulSoup)\n",
    "전시 산업 사이트를 활용한 정적 크롤링 실습입니다.\n",
    "\n",
    "## 🗂️ 학습 목표\n",
    "- `requests`와 `BeautifulSoup`을 이용한 정적 웹 크롤링 이해\n",
    "- HTML 구조 파악 및 CSS 선택자 사용\n",
    "- 전시회 사이트에서 정보 추출\n"
   ]
  },
  {
   "cell_type": "code",
   "execution_count": null,
   "id": "02605807",
   "metadata": {},
   "outputs": [],
   "source": [
    "# ✅ 필요한 라이브러리 설치\n",
    "!pip install requests beautifulsoup4 pandas"
   ]
  },
  {
   "cell_type": "markdown",
   "id": "4d52e7c5",
   "metadata": {},
   "source": [
    "## 예제 1: `https://www.anuga.com/` 타이틀 가져오기"
   ]
  },
  {
   "cell_type": "code",
   "execution_count": null,
   "id": "de33698a",
   "metadata": {},
   "outputs": [],
   "source": [
    "import requests\n",
    "from bs4 import BeautifulSoup\n",
    "\n",
    "url = \"https://www.anuga.com/\"\n",
    "res = requests.get(url)\n",
    "soup = BeautifulSoup(res.text, \"html.parser\")\n",
    "\n",
    "# 페이지 제목 출력\n",
    "print(\"페이지 제목:\", soup.title.text)\n"
   ]
  },
  {
   "cell_type": "markdown",
   "id": "650738ee",
   "metadata": {},
   "source": [
    "## 예제 2: `https://www.interzoo.com/en` 출품사 리스트 추출"
   ]
  },
  {
   "cell_type": "code",
   "execution_count": null,
   "id": "ee152477",
   "metadata": {},
   "outputs": [],
   "source": [
    "url = \"https://www.interzoo.com/en/exhibitor-list\"\n",
    "\n",
    "res = requests.get(url)\n",
    "soup = BeautifulSoup(res.text, \"html.parser\")\n",
    "\n",
    "# 출품사 이름 추출 예시 (정확한 selector는 실제 확인 필요)\n",
    "companies = soup.select(\".exhibitor-list-entry .title\")\n",
    "\n",
    "for idx, c in enumerate(companies[:10], 1):\n",
    "    print(f\"{idx}. {c.text.strip()}\")\n"
   ]
  },
  {
   "cell_type": "markdown",
   "id": "16e9a350",
   "metadata": {},
   "source": [
    "## 예제 3: 출품사 이름 + 링크 + 설명 추출 후 CSV 저장"
   ]
  },
  {
   "cell_type": "code",
   "execution_count": null,
   "id": "e9e6b931",
   "metadata": {},
   "outputs": [],
   "source": [
    "import pandas as pd\n",
    "\n",
    "data = []\n",
    "\n",
    "cards = soup.select(\".exhibitor-list-entry\")\n",
    "for card in cards[:10]:  # 상위 10개만 추출\n",
    "    name = card.select_one(\".title\").text.strip() if card.select_one(\".title\") else \"N/A\"\n",
    "    link = card.select_one(\"a\")[\"href\"] if card.select_one(\"a\") else \"N/A\"\n",
    "    desc = card.select_one(\".description\").text.strip() if card.select_one(\".description\") else \"N/A\"\n",
    "    \n",
    "    data.append({\n",
    "        \"Name\": name,\n",
    "        \"Link\": f\"https://www.interzoo.com{link}\" if \"http\" not in link else link,\n",
    "        \"Description\": desc\n",
    "    })\n",
    "\n",
    "df = pd.DataFrame(data)\n",
    "df.to_csv(\"interzoo_exhibitors.csv\", index=False, encoding=\"utf-8-sig\")\n",
    "print(\"✅ CSV 저장 완료\")"
   ]
  },
  {
   "cell_type": "markdown",
   "id": "186b7b6a",
   "metadata": {},
   "source": [
    "## 📥 Colab에서 CSV 파일 다운로드"
   ]
  },
  {
   "cell_type": "code",
   "execution_count": null,
   "id": "c9ca0a06",
   "metadata": {},
   "outputs": [],
   "source": [
    "from google.colab import files\n",
    "files.download(\"interzoo_exhibitors.csv\")"
   ]
  }
 ],
 "metadata": {},
 "nbformat": 4,
 "nbformat_minor": 5
}
