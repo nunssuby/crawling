{
 "cells": [
  {
   "cell_type": "markdown",
   "id": "8b781e7b",
   "metadata": {},
   "source": [
    "# SEMICON Korea 2025 기업 리스트 크롤링 실습\n",
    "\n",
    "`requests`와 `BeautifulSoup`을 사용한 정적 웹 크롤링"
   ]
  },
  {
   "cell_type": "markdown",
   "id": "c7c12101",
   "metadata": {},
   "source": [
    "\n",
    "## ✨ 실습 개요\n",
    "\n",
    "이번 실습에서는 **SEMICON Korea 2025** 전시회 사이트에서 기업 정보를 크롤링합니다.\n",
    "\n",
    "- 주요 도구: `requests`, `BeautifulSoup`\n",
    "- 주요 내용:\n",
    "    - HTML 구조 분석\n",
    "    - 원하는 정보(회사명, 부스번호, 상세 링크) 추출\n",
    "    - CSV 저장까지 완료\n"
   ]
  },
  {
   "cell_type": "markdown",
   "id": "c27ee7b9",
   "metadata": {},
   "source": [
    "## 📦 1. 라이브러리 설치 및 임포트"
   ]
  },
  {
   "cell_type": "code",
   "execution_count": null,
   "id": "01b84957",
   "metadata": {},
   "outputs": [],
   "source": [
    "#!pip install requests beautifulsoup4 pandas --quiet"
   ]
  },
  {
   "cell_type": "code",
   "execution_count": 1,
   "id": "97cf9c5c",
   "metadata": {},
   "outputs": [],
   "source": [
    "\n",
    "import requests\n",
    "from bs4 import BeautifulSoup\n",
    "import pandas as pd\n"
   ]
  },
  {
   "cell_type": "markdown",
   "id": "180c1e75",
   "metadata": {},
   "source": [
    "## 🌐 2. HTML 가져오기 (정적 페이지 확인 포함)"
   ]
  },
  {
   "cell_type": "code",
   "execution_count": 3,
   "id": "8aa28ee0",
   "metadata": {},
   "outputs": [
    {
     "name": "stderr",
     "output_type": "stream",
     "text": [
      "/Users/nunssuby/anaconda3/envs/crawling/lib/python3.13/site-packages/urllib3/connectionpool.py:1097: InsecureRequestWarning: Unverified HTTPS request is being made to host 'expo.semi.org'. Adding certificate verification is strongly advised. See: https://urllib3.readthedocs.io/en/latest/advanced-usage.html#tls-warnings\n",
      "  warnings.warn(\n"
     ]
    },
    {
     "name": "stdout",
     "output_type": "stream",
     "text": [
      "응답 상태 코드: 200\n",
      "HTML 일부: \n",
      "\n",
      "\n",
      "<!DOCTYPE html>\n",
      "<html lang=\"en\">\n",
      "<head><title>\n",
      "\tSEMICON Korea 2025: Exhibitors\n",
      "</title><meta name=\"viewport\" content=\"width=device-width, initial-scale=1.0\" /> \n",
      "    \n",
      "\n",
      "    <link rel=\"stylesheet\" href=\"//libs.a2zinc.net/assets/release/bs/css/bootstrap.css?v=2025.13.1\" />\n",
      "    <link rel=\"stylesheet\" href=\"//libs.a2zinc.net/assets/release/bs/css/bootstrap-colorselector.css?v=2025.13.1\" />\n",
      "    <link rel=\"stylesheet\" href=\"//libs.a2zinc.net/assets/release/bs/css/datepicker.css?v=2025.13.1\" />\n",
      "    <link rel=\"stylesheet\" href=\"//libs.a2zinc.net/assets/release/bs-touch-carousel/dist/css/bootstrap-touch-carousel.css?v=2025.13.1\" /> \n",
      "    <link rel=\"stylesheet\" href=\"//libs.a2zinc.net/assets/release/bs-sweetalert/sweet-alert.css?v=2025.13.1\" />\n",
      "    <link rel=\"stylesheet\" href=\"//libs.a2zinc.net/assets/release/fa/css/font-awesome.css?v=2025.13.1\" />\n",
      "    <link rel=\"stylesheet\" href=\"//libs.a2zinc.net/assets/release/show/css/site.css?v=2025.13.1\" />\n",
      "    <style type=\"text/css\">@font\n"
     ]
    }
   ],
   "source": [
    "\n",
    "url = \"https://expo.semi.org/korea2025/Public/exhibitors.aspx?ID=29169\"\n",
    "headers = {\n",
    "    \"User-Agent\": \"Mozilla/5.0\"\n",
    "}\n",
    "response = requests.get(url, headers=headers, verify=False)\n",
    "\n",
    "print(\"응답 상태 코드:\", response.status_code)\n",
    "print(\"HTML 일부:\", response.text[:1000])\n"
   ]
  },
  {
   "cell_type": "markdown",
   "id": "432c98bb",
   "metadata": {},
   "source": [
    "\n",
    "> 🧠 **비유 설명:**  \n",
    "> HTML은 웹페이지의 `재료`입니다.  \n",
    "> 이걸 그대로 가져와서(=requests.get), 우리가 필요한 재료가 어디에 담겼는지(=HTML 태그 구조)를 `BeautifulSoup`이 도와줍니다.\n"
   ]
  },
  {
   "cell_type": "markdown",
   "id": "aef7f23a",
   "metadata": {},
   "source": [
    "## 🍲 3. BeautifulSoup으로 HTML 파싱"
   ]
  },
  {
   "cell_type": "code",
   "execution_count": 4,
   "id": "d8580e17",
   "metadata": {},
   "outputs": [
    {
     "name": "stdout",
     "output_type": "stream",
     "text": [
      "총 기업 수: 498\n",
      "첫 번째 tr 구조:\n",
      "<tr>\n",
      " <td class=\"addRemoveExpoPlan\">\n",
      "  <a data-boothid=\"597898\" data-coid=\"33018\" href=\"#\">\n",
      "   <i class=\"fa fa-lg fa-star-o addToExpoPlan unchecked aa-addToExpoPlan\" title=\"Add To My Exhibitors\">\n",
      "   </i>\n",
      "  </a>\n",
      " </td>\n",
      " <td class=\"companyName\" style=\"width: auto;\">\n",
      "  <a class=\"exhibitorName\" href=\"eBooth.aspx?IndexInList=0&amp;FromPage=Exhibitors.aspx&amp;ParentBoothID=&amp;ListByBooth=true&amp;BoothID=597898\">\n",
      "   21CENTURY CO., LTD.\n",
      "  </a>\n",
      " </td>\n",
      " <td class=\"boothLabel\">\n",
      "  <a boothid=\"597898\" class=\"boothLabel aa-mapIt\" href=\"\n",
      "\t\t\t\t\t\teventmap.aspx?MapID=521&amp;MapItBoothID=597898&amp;MapItBooth=C743\" sortval=\"C743\" target=\"_blank\" title=\"Map It\">\n",
      "   C743\n",
      "  </a>\n",
      " </td>\n",
      " <td alt=\"Enhanced\" cla\n"
     ]
    }
   ],
   "source": [
    "\n",
    "soup = BeautifulSoup(response.text, \"html.parser\")\n",
    "rows = soup.select(\"table.table-striped tbody tr\")\n",
    "\n",
    "print(\"총 기업 수:\", len(rows))\n",
    "print(\"첫 번째 tr 구조:\")\n",
    "print(rows[0].prettify()[:700])\n"
   ]
  },
  {
   "cell_type": "markdown",
   "id": "7416a7df",
   "metadata": {},
   "source": [
    "## 🔍 4. 기업명, 부스번호, 상세 링크 추출"
   ]
  },
  {
   "cell_type": "code",
   "execution_count": 5,
   "id": "4617c373",
   "metadata": {},
   "outputs": [
    {
     "data": {
      "text/html": [
       "<div>\n",
       "<style scoped>\n",
       "    .dataframe tbody tr th:only-of-type {\n",
       "        vertical-align: middle;\n",
       "    }\n",
       "\n",
       "    .dataframe tbody tr th {\n",
       "        vertical-align: top;\n",
       "    }\n",
       "\n",
       "    .dataframe thead th {\n",
       "        text-align: right;\n",
       "    }\n",
       "</style>\n",
       "<table border=\"1\" class=\"dataframe\">\n",
       "  <thead>\n",
       "    <tr style=\"text-align: right;\">\n",
       "      <th></th>\n",
       "      <th>Company</th>\n",
       "      <th>Booth</th>\n",
       "      <th>Link</th>\n",
       "    </tr>\n",
       "  </thead>\n",
       "  <tbody>\n",
       "    <tr>\n",
       "      <th>0</th>\n",
       "      <td>21CENTURY CO., LTD.</td>\n",
       "      <td>C743</td>\n",
       "      <td>https://expo.semi.org/korea2025/Public/eBooth....</td>\n",
       "    </tr>\n",
       "    <tr>\n",
       "      <th>1</th>\n",
       "      <td>3D-Micromac AG</td>\n",
       "      <td>A354</td>\n",
       "      <td>https://expo.semi.org/korea2025/Public/eBooth....</td>\n",
       "    </tr>\n",
       "    <tr>\n",
       "      <th>2</th>\n",
       "      <td>3H CORPORATION LTD.</td>\n",
       "      <td>C604</td>\n",
       "      <td>https://expo.semi.org/korea2025/Public/eBooth....</td>\n",
       "    </tr>\n",
       "    <tr>\n",
       "      <th>3</th>\n",
       "      <td>3SLINE CO., LTD.</td>\n",
       "      <td>B226</td>\n",
       "      <td>https://expo.semi.org/korea2025/Public/eBooth....</td>\n",
       "    </tr>\n",
       "    <tr>\n",
       "      <th>4</th>\n",
       "      <td>A&amp;AT</td>\n",
       "      <td>A636</td>\n",
       "      <td>https://expo.semi.org/korea2025/Public/eBooth....</td>\n",
       "    </tr>\n",
       "  </tbody>\n",
       "</table>\n",
       "</div>"
      ],
      "text/plain": [
       "               Company Booth  \\\n",
       "0  21CENTURY CO., LTD.  C743   \n",
       "1       3D-Micromac AG  A354   \n",
       "2  3H CORPORATION LTD.  C604   \n",
       "3     3SLINE CO., LTD.  B226   \n",
       "4                 A&AT  A636   \n",
       "\n",
       "                                                Link  \n",
       "0  https://expo.semi.org/korea2025/Public/eBooth....  \n",
       "1  https://expo.semi.org/korea2025/Public/eBooth....  \n",
       "2  https://expo.semi.org/korea2025/Public/eBooth....  \n",
       "3  https://expo.semi.org/korea2025/Public/eBooth....  \n",
       "4  https://expo.semi.org/korea2025/Public/eBooth....  "
      ]
     },
     "execution_count": 5,
     "metadata": {},
     "output_type": "execute_result"
    }
   ],
   "source": [
    "\n",
    "base_url = \"https://expo.semi.org/korea2025/Public/\"\n",
    "data = []\n",
    "\n",
    "for row in rows:\n",
    "    company_tag = row.select_one(\".companyName a\")\n",
    "    booth_tag = row.select_one(\".boothLabel a\")\n",
    "\n",
    "    company = company_tag.get_text(strip=True) if company_tag else \"N/A\"\n",
    "    booth = booth_tag.get_text(strip=True) if booth_tag else \"N/A\"\n",
    "    link = base_url + company_tag[\"href\"] if company_tag else \"N/A\"\n",
    "\n",
    "    data.append({\n",
    "        \"Company\": company,\n",
    "        \"Booth\": booth,\n",
    "        \"Link\": link\n",
    "    })\n",
    "\n",
    "df = pd.DataFrame(data)\n",
    "df.head()\n"
   ]
  },
  {
   "cell_type": "markdown",
   "id": "80b86fe3",
   "metadata": {},
   "source": [
    "## 💾 5. CSV로 저장하기"
   ]
  },
  {
   "cell_type": "code",
   "execution_count": 6,
   "id": "0b099b51",
   "metadata": {},
   "outputs": [
    {
     "name": "stdout",
     "output_type": "stream",
     "text": [
      "CSV 저장 완료!\n"
     ]
    }
   ],
   "source": [
    "\n",
    "df.to_csv(\"semicon_korea_exhibitors.csv\", index=False)\n",
    "print(\"CSV 저장 완료!\")\n"
   ]
  },
  {
   "cell_type": "markdown",
   "id": "2b440215",
   "metadata": {},
   "source": [
    "## ✅ 마무리\n",
    "\n",
    "이제 정적 웹페이지에서도 데이터를 수집할 수 있는 실력을 갖췄어요!\n",
    "\n",
    "---\n",
    "\n",
    "이제 다른 전시회도 직접 분석해보세요 😊"
   ]
  }
 ],
 "metadata": {
  "kernelspec": {
   "display_name": "crawling",
   "language": "python",
   "name": "python3"
  },
  "language_info": {
   "codemirror_mode": {
    "name": "ipython",
    "version": 3
   },
   "file_extension": ".py",
   "mimetype": "text/x-python",
   "name": "python",
   "nbconvert_exporter": "python",
   "pygments_lexer": "ipython3",
   "version": "3.13.2"
  }
 },
 "nbformat": 4,
 "nbformat_minor": 5
}
