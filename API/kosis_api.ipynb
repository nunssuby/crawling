{
 "cells": [
  {
   "cell_type": "markdown",
   "id": "d9671f4d",
   "metadata": {},
   "source": [
    "# 📊 KOSIS API 실습: 공공데이터 활용하기\n",
    "\n",
    "**목표:** KOSIS(국가통계포털) OpenAPI를 사용하여 실시간 통계 데이터를 받아오고, CSV 파일로 저장해보자."
   ]
  },
  {
   "cell_type": "markdown",
   "id": "b8dcb0cb",
   "metadata": {},
   "source": [
    "## 🔍 KOSIS API란?\n",
    "- 대한민국 통계청에서 제공하는 **공공 통계 데이터 API**입니다.\n",
    "- 지역, 산업, 성별, 연도 등의 다양한 통계를 **JSON 형식**으로 제공합니다.\n",
    "\n",
    "🧠 **비유로 설명하면?**  \n",
    "> 마치 학교 급식실 앞에 놓인 메뉴판처럼, 우리가 원하는 데이터 메뉴를 골라서 받아올 수 있는 API입니다."
   ]
  },
  {
   "cell_type": "markdown",
   "id": "5628fd7b",
   "metadata": {},
   "source": [
    "## 🔧 라이브러리 설치 (Colab 전용)"
   ]
  },
  {
   "cell_type": "code",
   "execution_count": 6,
   "id": "cde4dd3a",
   "metadata": {},
   "outputs": [
    {
     "name": "stdout",
     "output_type": "stream",
     "text": [
      "Requirement already satisfied: requests in /Users/nunssuby/anaconda3/envs/crawling/lib/python3.13/site-packages (2.32.3)\n",
      "Requirement already satisfied: pandas in /Users/nunssuby/anaconda3/envs/crawling/lib/python3.13/site-packages (2.2.3)\n",
      "Collecting python-dotenv\n",
      "  Downloading python_dotenv-1.1.0-py3-none-any.whl.metadata (24 kB)\n",
      "Requirement already satisfied: charset-normalizer<4,>=2 in /Users/nunssuby/anaconda3/envs/crawling/lib/python3.13/site-packages (from requests) (3.4.1)\n",
      "Requirement already satisfied: idna<4,>=2.5 in /Users/nunssuby/anaconda3/envs/crawling/lib/python3.13/site-packages (from requests) (3.10)\n",
      "Requirement already satisfied: urllib3<3,>=1.21.1 in /Users/nunssuby/anaconda3/envs/crawling/lib/python3.13/site-packages (from requests) (2.3.0)\n",
      "Requirement already satisfied: certifi>=2017.4.17 in /Users/nunssuby/anaconda3/envs/crawling/lib/python3.13/site-packages (from requests) (2025.1.31)\n",
      "Requirement already satisfied: numpy>=1.26.0 in /Users/nunssuby/anaconda3/envs/crawling/lib/python3.13/site-packages (from pandas) (2.2.4)\n",
      "Requirement already satisfied: python-dateutil>=2.8.2 in /Users/nunssuby/anaconda3/envs/crawling/lib/python3.13/site-packages (from pandas) (2.9.0.post0)\n",
      "Requirement already satisfied: pytz>=2020.1 in /Users/nunssuby/anaconda3/envs/crawling/lib/python3.13/site-packages (from pandas) (2025.2)\n",
      "Requirement already satisfied: tzdata>=2022.7 in /Users/nunssuby/anaconda3/envs/crawling/lib/python3.13/site-packages (from pandas) (2025.2)\n",
      "Requirement already satisfied: six>=1.5 in /Users/nunssuby/anaconda3/envs/crawling/lib/python3.13/site-packages (from python-dateutil>=2.8.2->pandas) (1.17.0)\n",
      "Downloading python_dotenv-1.1.0-py3-none-any.whl (20 kB)\n",
      "Installing collected packages: python-dotenv\n",
      "Successfully installed python-dotenv-1.1.0\n"
     ]
    }
   ],
   "source": [
    "!pip install requests pandas python-dotenv"
   ]
  },
  {
   "cell_type": "code",
   "execution_count": 7,
   "id": "977ed254",
   "metadata": {},
   "outputs": [],
   "source": [
    "import requests\n",
    "import pandas as pd\n",
    "from dotenv import load_dotenv\n",
    "import os"
   ]
  },
  {
   "cell_type": "markdown",
   "id": "dc48ab53",
   "metadata": {},
   "source": [
    "## 🔑 인증키 및 요청 파라미터 설정\n",
    "- [KOSIS 개발자 센터](https://kosis.kr/openapi/)에서 인증키를 발급받아야 합니다."
   ]
  },
  {
   "cell_type": "code",
   "execution_count": 8,
   "id": "13b94781",
   "metadata": {},
   "outputs": [],
   "source": [
    "\n",
    "load_dotenv()\n",
    "api_key = os.getenv(\"KOSIS_API_KEY\")\n",
    "\n",
    "url = \"https://kosis.kr/openapi/Param/statisticsParameterData.do\"\n",
    "\n",
    "params = {\n",
    "    \"method\": \"getList\",\n",
    "    \"apiKey\": api_key,\n",
    "    \"itmId\": \"T001+T002+T003+T004+\",\n",
    "    \"objL1\": \"ALL\",\n",
    "    \"objL2\": \"ALL\",\n",
    "    \"objL3\": \"\",\n",
    "    \"objL4\": \"\",\n",
    "    \"objL5\": \"\",\n",
    "    \"objL6\": \"\",\n",
    "    \"objL7\": \"\",\n",
    "    \"objL8\": \"\",\n",
    "    \"format\": \"json\",\n",
    "    \"jsonVD\": \"Y\",\n",
    "    \"prdSe\": \"Y\",\n",
    "    \"newEstPrdCnt\": 3,\n",
    "    \"orgId\": \"430\",\n",
    "    \"tblId\": \"DT_430001_09_001\"\n",
    "}"
   ]
  },
  {
   "cell_type": "code",
   "execution_count": 9,
   "id": "ebedae6a",
   "metadata": {},
   "outputs": [
    {
     "name": "stdout",
     "output_type": "stream",
     "text": [
      "✅ 데이터 수신 완료\n"
     ]
    }
   ],
   "source": [
    "response = requests.get(url, params=params)\n",
    "\n",
    "if response.status_code == 200:\n",
    "    data = response.json()\n",
    "    print(\"✅ 데이터 수신 완료\")\n",
    "else:\n",
    "    print(f\"❌ 오류 발생. 상태코드: {response.status_code}\")"
   ]
  },
  {
   "cell_type": "markdown",
   "id": "3ea34a7b",
   "metadata": {},
   "source": [
    "📌 **비유**\n",
    "> 위 코드는 마치 KOSIS 식당에서 `메뉴 고르기 + 주문 요청`을 한 셈입니다. 이제 받은 JSON 데이터를 엿보죠!"
   ]
  },
  {
   "cell_type": "code",
   "execution_count": 10,
   "id": "2ec4c364",
   "metadata": {},
   "outputs": [
    {
     "data": {
      "text/html": [
       "<div>\n",
       "<style scoped>\n",
       "    .dataframe tbody tr th:only-of-type {\n",
       "        vertical-align: middle;\n",
       "    }\n",
       "\n",
       "    .dataframe tbody tr th {\n",
       "        vertical-align: top;\n",
       "    }\n",
       "\n",
       "    .dataframe thead th {\n",
       "        text-align: right;\n",
       "    }\n",
       "</style>\n",
       "<table border=\"1\" class=\"dataframe\">\n",
       "  <thead>\n",
       "    <tr style=\"text-align: right;\">\n",
       "      <th></th>\n",
       "      <th>C1_OBJ_NM</th>\n",
       "      <th>C2_NM</th>\n",
       "      <th>DT</th>\n",
       "      <th>C2</th>\n",
       "      <th>C1</th>\n",
       "      <th>PRD_SE</th>\n",
       "      <th>UNIT_NM_ENG</th>\n",
       "      <th>ITM_ID</th>\n",
       "      <th>TBL_ID</th>\n",
       "      <th>ITM_NM</th>\n",
       "      <th>TBL_NM</th>\n",
       "      <th>PRD_DE</th>\n",
       "      <th>LST_CHN_DE</th>\n",
       "      <th>C1_NM</th>\n",
       "      <th>UNIT_NM</th>\n",
       "      <th>ORG_ID</th>\n",
       "      <th>C2_OBJ_NM</th>\n",
       "    </tr>\n",
       "  </thead>\n",
       "  <tbody>\n",
       "    <tr>\n",
       "      <th>0</th>\n",
       "      <td>참가업체국적별</td>\n",
       "      <td>합계</td>\n",
       "      <td>677891</td>\n",
       "      <td>B01</td>\n",
       "      <td>A01</td>\n",
       "      <td>A</td>\n",
       "      <td>Case</td>\n",
       "      <td>T001</td>\n",
       "      <td>DT_430001_09_001</td>\n",
       "      <td>상담건수</td>\n",
       "      <td>상담‧계약 건수 및 상담액‧계약액 현황</td>\n",
       "      <td>2021</td>\n",
       "      <td>2022-11-30</td>\n",
       "      <td>전체</td>\n",
       "      <td>건</td>\n",
       "      <td>430</td>\n",
       "      <td>현황별</td>\n",
       "    </tr>\n",
       "    <tr>\n",
       "      <th>1</th>\n",
       "      <td>참가업체국적별</td>\n",
       "      <td>합계</td>\n",
       "      <td>908639</td>\n",
       "      <td>B01</td>\n",
       "      <td>A01</td>\n",
       "      <td>A</td>\n",
       "      <td>Case</td>\n",
       "      <td>T001</td>\n",
       "      <td>DT_430001_09_001</td>\n",
       "      <td>상담건수</td>\n",
       "      <td>상담‧계약 건수 및 상담액‧계약액 현황</td>\n",
       "      <td>2022</td>\n",
       "      <td>2023-11-29</td>\n",
       "      <td>전체</td>\n",
       "      <td>건</td>\n",
       "      <td>430</td>\n",
       "      <td>현황별</td>\n",
       "    </tr>\n",
       "    <tr>\n",
       "      <th>2</th>\n",
       "      <td>참가업체국적별</td>\n",
       "      <td>합계</td>\n",
       "      <td>1292110</td>\n",
       "      <td>B01</td>\n",
       "      <td>A01</td>\n",
       "      <td>A</td>\n",
       "      <td>Case</td>\n",
       "      <td>T001</td>\n",
       "      <td>DT_430001_09_001</td>\n",
       "      <td>상담건수</td>\n",
       "      <td>상담‧계약 건수 및 상담액‧계약액 현황</td>\n",
       "      <td>2023</td>\n",
       "      <td>2024-11-12</td>\n",
       "      <td>전체</td>\n",
       "      <td>건</td>\n",
       "      <td>430</td>\n",
       "      <td>현황별</td>\n",
       "    </tr>\n",
       "    <tr>\n",
       "      <th>3</th>\n",
       "      <td>참가업체국적별</td>\n",
       "      <td>합계</td>\n",
       "      <td>111447</td>\n",
       "      <td>B01</td>\n",
       "      <td>A01</td>\n",
       "      <td>A</td>\n",
       "      <td>Case</td>\n",
       "      <td>T003</td>\n",
       "      <td>DT_430001_09_001</td>\n",
       "      <td>계약건수</td>\n",
       "      <td>상담‧계약 건수 및 상담액‧계약액 현황</td>\n",
       "      <td>2021</td>\n",
       "      <td>2022-11-30</td>\n",
       "      <td>전체</td>\n",
       "      <td>건</td>\n",
       "      <td>430</td>\n",
       "      <td>현황별</td>\n",
       "    </tr>\n",
       "    <tr>\n",
       "      <th>4</th>\n",
       "      <td>참가업체국적별</td>\n",
       "      <td>합계</td>\n",
       "      <td>137491</td>\n",
       "      <td>B01</td>\n",
       "      <td>A01</td>\n",
       "      <td>A</td>\n",
       "      <td>Case</td>\n",
       "      <td>T003</td>\n",
       "      <td>DT_430001_09_001</td>\n",
       "      <td>계약건수</td>\n",
       "      <td>상담‧계약 건수 및 상담액‧계약액 현황</td>\n",
       "      <td>2022</td>\n",
       "      <td>2023-11-29</td>\n",
       "      <td>전체</td>\n",
       "      <td>건</td>\n",
       "      <td>430</td>\n",
       "      <td>현황별</td>\n",
       "    </tr>\n",
       "  </tbody>\n",
       "</table>\n",
       "</div>"
      ],
      "text/plain": [
       "  C1_OBJ_NM C2_NM       DT   C2   C1 PRD_SE UNIT_NM_ENG ITM_ID  \\\n",
       "0   참가업체국적별    합계   677891  B01  A01      A        Case   T001   \n",
       "1   참가업체국적별    합계   908639  B01  A01      A        Case   T001   \n",
       "2   참가업체국적별    합계  1292110  B01  A01      A        Case   T001   \n",
       "3   참가업체국적별    합계   111447  B01  A01      A        Case   T003   \n",
       "4   참가업체국적별    합계   137491  B01  A01      A        Case   T003   \n",
       "\n",
       "             TBL_ID ITM_NM                 TBL_NM PRD_DE  LST_CHN_DE C1_NM  \\\n",
       "0  DT_430001_09_001   상담건수  상담‧계약 건수 및 상담액‧계약액 현황   2021  2022-11-30    전체   \n",
       "1  DT_430001_09_001   상담건수  상담‧계약 건수 및 상담액‧계약액 현황   2022  2023-11-29    전체   \n",
       "2  DT_430001_09_001   상담건수  상담‧계약 건수 및 상담액‧계약액 현황   2023  2024-11-12    전체   \n",
       "3  DT_430001_09_001   계약건수  상담‧계약 건수 및 상담액‧계약액 현황   2021  2022-11-30    전체   \n",
       "4  DT_430001_09_001   계약건수  상담‧계약 건수 및 상담액‧계약액 현황   2022  2023-11-29    전체   \n",
       "\n",
       "  UNIT_NM ORG_ID C2_OBJ_NM  \n",
       "0       건    430       현황별  \n",
       "1       건    430       현황별  \n",
       "2       건    430       현황별  \n",
       "3       건    430       현황별  \n",
       "4       건    430       현황별  "
      ]
     },
     "execution_count": 10,
     "metadata": {},
     "output_type": "execute_result"
    }
   ],
   "source": [
    "df = pd.DataFrame(data)\n",
    "df.head()"
   ]
  },
  {
   "cell_type": "markdown",
   "id": "eae887a3",
   "metadata": {},
   "source": [
    "## 💾 CSV로 저장하기\n",
    "- 필요한 데이터를 정리해서 CSV로 저장하면 엑셀로도 열 수 있어요!"
   ]
  },
  {
   "cell_type": "code",
   "execution_count": 5,
   "id": "4a6a7f40",
   "metadata": {},
   "outputs": [],
   "source": [
    "df.to_csv(\"kosis_data.csv\", index=False)"
   ]
  },
  {
   "cell_type": "markdown",
   "id": "830ca31a",
   "metadata": {},
   "source": [
    "## 🔗 참고: 사용한 통계표 페이지\n",
    "- [전시산업통계조사 - 전시회유형별 전시회  (년 2018~2023)](https://kosis.kr/statHtml/statHtml.do?sso=ok&returnurl=https%3A%2F%2Fkosis.kr%3A443%2FstatHtml%2FstatHtml.do%3Flist_id%3D430_430001_001%26obj_var_id%3D%26seqNo%3D%26tblId%3DDT_430001_05_001%26vw_cd%3DMT_ZTITLE%26orgId%3D430%26path%3D%252FstatisticsList%252FstatisticsListIndex.do%26conn_path%3DMT_ZTITLE%26itm_id%3D%26lang_mode%3Dko%26scrId%3D%26)"
   ]
  },
  {
   "cell_type": "markdown",
   "id": "22781909",
   "metadata": {},
   "source": []
  }
 ],
 "metadata": {
  "kernelspec": {
   "display_name": "crawling",
   "language": "python",
   "name": "python3"
  },
  "language_info": {
   "codemirror_mode": {
    "name": "ipython",
    "version": 3
   },
   "file_extension": ".py",
   "mimetype": "text/x-python",
   "name": "python",
   "nbconvert_exporter": "python",
   "pygments_lexer": "ipython3",
   "version": "3.13.2"
  }
 },
 "nbformat": 4,
 "nbformat_minor": 5
}
